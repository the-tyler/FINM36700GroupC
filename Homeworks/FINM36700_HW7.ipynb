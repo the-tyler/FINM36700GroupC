{
 "cells": [
  {
   "cell_type": "markdown",
   "id": "b2a5aa60",
   "metadata": {},
   "source": [
    "<left>FINM 36700 - Portfolio Theory and Risk Management</left> \n",
    "<br>\n",
    "\n",
    "<h2><center> Homework 7 (GMO) </center></h2>\n",
    "\n",
    "<left> Group 22 (Raafay, Shrey, Sarp, Aditya, Riccardo)"
   ]
  },
  {
   "cell_type": "markdown",
   "id": "32990925",
   "metadata": {},
   "source": [
    "## 1) GMO\n",
    "\n",
    "#### <i> This section is not graded, and you do not need to submit your answers. But you are expected to consider these issues and be ready to discuss them. </i>"
   ]
  },
  {
   "cell_type": "markdown",
   "id": "aa94b0cb",
   "metadata": {},
   "source": [
    "## 1.1) GMO's approach"
   ]
  },
  {
   "cell_type": "markdown",
   "id": "d659f501",
   "metadata": {},
   "source": [
    "### 1.1.a) Why does GMO believe they can more easily predict long-run than short-run asset class performance?\n",
    "\n",
    "GMO believed that investors demand risk premiums over the long run when investing in stocks because stocks tend to lose money at \"bad times\". GMO also believed that since market prices could significantly deviate away from fundamental value in short run, the expected returns in short term could differ from the long run estimates. This led GMO to believe that near term expected returns were noisy and hence, they can more easily predict long-run than short-run asset class performance. Additionally, GMO believed that while in the short term, the stock market was like a voting machine, in the long run, the market was actually like a weighting machine. "
   ]
  },
  {
   "cell_type": "markdown",
   "id": "635d169d",
   "metadata": {},
   "source": [
    "### 1.1.b) What predicting variables does the case mention are used by GMO? Does this fit with the goal of long-run forecasts?\n",
    "\n",
    "GMO used dividend yield estimates that investors were likely to require over the long run and the expected long-run dividend growth rate. They also employed the \"Gordon Growth Model\", which determined that long-run required return on stocks was the sum of fair dividend yield. Additionally, GMO also built its forcast using the fact that the return on stocks was equal to the dividend yield, plus the percentage change in the price-earnings multiple, plus the percentage change in profit margins, plus the percentage changes in sales per share."
   ]
  },
  {
   "cell_type": "markdown",
   "id": "a6c7e216",
   "metadata": {},
   "source": [
    "### 1.1.c) How has this approach led to contrarian positions?\n",
    "\n",
    "This approach led to contrarian positions because GMO thought that prices could deviate from fundamental value, particularly at the level of broad asset classes such as U.S. stocks and that the prices would revert to fundamental value over time. For instance, when the market has an overly optimistic view of future dividend, prices would exceed fair value. However, investors would then eventually realize they were too optimistic and that prices would rever toward fair value. Thus at times of high prices GMO would have a contrarian view of expected returns being low and vice versa."
   ]
  },
  {
   "cell_type": "markdown",
   "id": "d50075f5",
   "metadata": {},
   "source": [
    "### 1.1.d) How does this approach raise business risk and managerial career risk?\n",
    "\n",
    "GMO's contrarian approach would create business or managerial risk if stocks did not revert to their fundamental value. For instance, GMO became bearish on US stocks in 1997 and underweighted Stocks in their asset allocation funds. But as U.S. stocks soared between 1997 and 2000, GMO's asset allocation underperformed severly and they lost nearly 60% of their assets due to investors withdrawing from the company."
   ]
  },
  {
   "cell_type": "markdown",
   "id": "03e3a1a6",
   "metadata": {},
   "source": [
    "## 1.2) Market Environment"
   ]
  },
  {
   "cell_type": "markdown",
   "id": "9f394366",
   "metadata": {},
   "source": [
    "### 1.2.a) We often estimate the market risk premium by looking at a large sample of historic data. What reasons does the case give to be skeptical that the market risk premium will be as high in the future as it has been over the past 50 years?\n",
    "\n",
    "GMO had a slightly negative outlook for stocks in 2012, even though valuations had fallen from their 1999 peak. Although, GMO still believed that stocks would continue to earn a healthy risk premium over the long run. Additionally, GMO believed that certain trends in historical data were not necessarily indicative of how markets would behave in the future."
   ]
  },
  {
   "cell_type": "markdown",
   "id": "f835dad0",
   "metadata": {},
   "source": [
    "### 1.2.b) In 2007, GMO forecasts real excess equity returns will be negative. What are the biggest drivers of their pessimistic conditional forecast relative to the unconditional forecast. (See Exhibit 9.) \n",
    "\n",
    "- $\\% \\Delta(\\frac{P}{E})$ was estimated to be negative (-2.8%) for the 7 year forecast\n",
    "- $\\% \\Delta(\\frac{E}{S})$ was also estimated to be negative (-3.9%) for the 7 year forecast"
   ]
  },
  {
   "cell_type": "markdown",
   "id": "a951ad01",
   "metadata": {},
   "source": [
    "### 1.2.c) In the 2011 forecast, what components has GMO revised most relative to 2007? Now how does their conditional forecast compare to the unconditional? (See Exhibit 10.)\n",
    "\n",
    "- $\\% \\Delta(\\frac{P}{E})$ improved from -2.8% in 2007 to 0.0% in 2011\n",
    "\n",
    "- $\\% \\Delta(\\frac{E}{S})$ was estimated to be slightly less negative from -3.9% in 2007 to -3.7% in 2011\n",
    "\n",
    "- $\\% \\Delta(S)$ improved from 2.4% in 2007 to 2.9% in 2011\n",
    "\n",
    "- Dividend yield also increased from 2.3% in 2007 to 2.5% in 2011"
   ]
  },
  {
   "cell_type": "markdown",
   "id": "da752760",
   "metadata": {},
   "source": [
    "## 3. Consider the asset class forecasts in Exhibit 1.\n",
    "### 1.3.a) Which asset class did GMO estimate to have a negative 10-year return over 2002-2011?\n",
    "\n",
    "US Equities\n",
    "\n",
    "### 1.3.b) Which asset classes substantially outperformed GMO's estimate over that time period?\n",
    "\n",
    "EM Equities and Foreign Government Debt\n",
    "\n",
    "### 1.3.c) Which asset classes substantially underperformed GMO's estimate over that time period?\n",
    "\n",
    "US Treasury Bills and US REITs\n",
    "\n",
    "## 4. Fund Performance.\n",
    "### 1.4.a) In which asset class was GMWAX most heavily allocated throughout the majority of 1997-2011?\n",
    "\n",
    "U.S. Fixed Income\n",
    "\n",
    "### 1.4.b) Comment on the performance of GMWAX versus its benchmark. (No calculation needed, simply comment on the comparison in the exhibits.)\n",
    "\n",
    "-  The fund seems to have been quite successful relative to the benchmark"
   ]
  },
  {
   "cell_type": "markdown",
   "id": "3e5fab35",
   "metadata": {},
   "source": [
    "# Imports"
   ]
  },
  {
   "cell_type": "code",
   "execution_count": 1,
   "id": "203d7149",
   "metadata": {},
   "outputs": [],
   "source": [
    "import pandas as pd\n",
    "import numpy as np\n",
    "import scipy.stats as stats\n",
    "from scipy.stats import kurtosis, skew\n",
    "from scipy.stats import norm\n",
    "import seaborn as sns\n",
    "import statsmodels.api as sm\n",
    "from statsmodels.regression.rolling import RollingOLS\n",
    "\n",
    "\n",
    "from sklearn.ensemble import RandomForestRegressor\n",
    "from sklearn.linear_model import LinearRegression\n",
    "from sklearn import tree\n",
    "from sklearn.neural_network import MLPRegressor\n",
    "\n",
    "import warnings\n",
    "warnings.filterwarnings(\"ignore\")\n",
    "\n",
    "%matplotlib inline\n",
    "\n",
    "\n",
    "import matplotlib.pyplot as plt\n",
    "plt.rcParams['figure.figsize']=[15, 6]\n",
    "import matplotlib.cm as cm"
   ]
  },
  {
   "cell_type": "markdown",
   "id": "a7caef81",
   "metadata": {},
   "source": [
    "# Helper Functions"
   ]
  },
  {
   "cell_type": "code",
   "execution_count": 2,
   "id": "7a917576",
   "metadata": {},
   "outputs": [],
   "source": [
    "def performance_summary(return_data):\n",
    "    \"\"\" \n",
    "        Returns the Performance Stats for given set of returns\n",
    "        Inputs: \n",
    "            return_data - DataFrame with Date index and Monthly Returns for different assets/strategies.\n",
    "        Output:\n",
    "            summary_stats - DataFrame with annualized mean return, vol, sharpe ratio. Skewness, Excess Kurtosis, Var (0.5) and\n",
    "                            CVaR (0.5) and drawdown based on monthly returns. \n",
    "    \"\"\"\n",
    "    summary_stats = return_data.mean().to_frame('Mean').apply(lambda x: x*12)\n",
    "    summary_stats['Volatility'] = return_data.std().apply(lambda x: x*np.sqrt(12))\n",
    "    summary_stats['Sharpe Ratio'] = summary_stats['Mean']/summary_stats['Volatility']\n",
    "    \n",
    "    summary_stats['Skewness'] = return_data.skew()\n",
    "    summary_stats['Excess Kurtosis'] = return_data.kurtosis()\n",
    "    summary_stats['VaR (0.05)'] = return_data.quantile(.05, axis = 0)\n",
    "    summary_stats['CVaR (0.05)'] = return_data[return_data <= return_data.quantile(.05, axis = 0)].mean()\n",
    "    summary_stats['Min'] = return_data.min()\n",
    "    summary_stats['Max'] = return_data.max()\n",
    "    \n",
    "    wealth_index = 1000*(1+return_data).cumprod()\n",
    "    previous_peaks = wealth_index.cummax()\n",
    "    drawdowns = (wealth_index - previous_peaks)/previous_peaks\n",
    "\n",
    "    summary_stats['Max Drawdown'] = drawdowns.min()\n",
    "    summary_stats['Peak'] = [previous_peaks[col][:drawdowns[col].idxmin()].idxmax() for col in previous_peaks.columns]\n",
    "    summary_stats['Bottom'] = drawdowns.idxmin()\n",
    "    \n",
    "    recovery_date = []\n",
    "    for col in wealth_index.columns:\n",
    "        prev_max = previous_peaks[col][:drawdowns[col].idxmin()].max()\n",
    "        recovery_wealth = pd.DataFrame([wealth_index[col][drawdowns[col].idxmin():]]).T\n",
    "        recovery_date.append(recovery_wealth[recovery_wealth[col] >= prev_max].index.min())\n",
    "    summary_stats['Recovery'] = recovery_date\n",
    "    \n",
    "    return summary_stats"
   ]
  },
  {
   "cell_type": "code",
   "execution_count": 3,
   "id": "be0c300e",
   "metadata": {},
   "outputs": [],
   "source": [
    "def regression_based_performance(factor,fund_ret,rf,constant = True):\n",
    "    \"\"\" \n",
    "        Returns the Regression based performance Stats for given set of returns and factors\n",
    "        Inputs:\n",
    "            factor - Dataframe containing monthly returns of the regressors\n",
    "            fund_ret - Dataframe containing monthly excess returns of the regressand fund\n",
    "            rf - Monthly risk free rate of return\n",
    "        Output:\n",
    "            summary_stats - (Beta of regression, treynor ratio, information ratio, alpha). \n",
    "    \"\"\"\n",
    "    if constant:\n",
    "        X = sm.tools.add_constant(factor)\n",
    "    else:\n",
    "        X = factor\n",
    "    y=fund_ret\n",
    "    model = sm.OLS(y,X,missing='drop').fit()\n",
    "    \n",
    "    if constant:\n",
    "        beta = model.params[1:]\n",
    "        alpha = round(float(model.params['const']),6) *12\n",
    "\n",
    "        \n",
    "    else:\n",
    "        beta = model.params\n",
    "    treynor_ratio = ((fund_ret - rf).mean()*12)/beta[0]\n",
    "    tracking_error = (model.resid.std()*np.sqrt(12))\n",
    "    if constant:        \n",
    "        information_ratio = model.params[0]*12/tracking_error\n",
    "    r_squared = model.rsquared\n",
    "    if constant:\n",
    "        return (beta,treynor_ratio,information_ratio,alpha,r_squared,tracking_error,model.resid,model)\n",
    "    else:\n",
    "        return (beta,treynor_ratio,r_squared,tracking_error,model.resid)"
   ]
  },
  {
   "cell_type": "code",
   "execution_count": 4,
   "id": "7d68bc94",
   "metadata": {},
   "outputs": [],
   "source": [
    "def rolling_regression_param(factor,fund_ret,roll_window = 60):\n",
    "    \"\"\" \n",
    "        Returns the Rolling Regression parameters for given set of returns and factors\n",
    "        Inputs:\n",
    "            factor - Dataframe containing monthly returns of the regressors\n",
    "            fund_ret - Dataframe containing monthly excess returns of the regressand fund\n",
    "            roll_window = rolling window for regression\n",
    "        Output:\n",
    "            params - Dataframe with time-t as the index and constant and Betas as columns\n",
    "    \"\"\"\n",
    "    X = sm.add_constant(factor)\n",
    "    y= fund_ret\n",
    "    rols = RollingOLS(y, X, window=roll_window)\n",
    "    rres = rols.fit()\n",
    "    params = rres.params.copy()\n",
    "    params.index = np.arange(1, params.shape[0] + 1)\n",
    "    return params\n",
    "    "
   ]
  },
  {
   "cell_type": "markdown",
   "id": "255a7d0b",
   "metadata": {},
   "source": [
    "# Reading Data"
   ]
  },
  {
   "cell_type": "code",
   "execution_count": 5,
   "id": "79080a99",
   "metadata": {},
   "outputs": [],
   "source": [
    "gmo_total_ret = pd.read_excel('gmo_analysis_data.xlsx',sheet_name = 'returns (total)', index_col = 0)\n",
    "gmo_total_ret.index.name = 'Date'"
   ]
  },
  {
   "cell_type": "code",
   "execution_count": 6,
   "id": "398ef3cc",
   "metadata": {},
   "outputs": [],
   "source": [
    "path = 'gmo_analysis_data.xlsx'\n",
    "rf = pd.read_excel(path,sheet_name = 'risk-free rate', index_col = 0)\n",
    "rf.index.name = 'Date'"
   ]
  },
  {
   "cell_type": "code",
   "execution_count": 7,
   "id": "0786c09b",
   "metadata": {},
   "outputs": [],
   "source": [
    "path = 'gmo_analysis_data.xlsx'\n",
    "gmo_signals = pd.read_excel(path,sheet_name = 'signals', index_col = 0)\n",
    "gmo_signals.index.name = 'Date'"
   ]
  },
  {
   "cell_type": "code",
   "execution_count": 8,
   "id": "e1e8430c",
   "metadata": {},
   "outputs": [
    {
     "data": {
      "text/html": [
       "<div>\n",
       "<style scoped>\n",
       "    .dataframe tbody tr th:only-of-type {\n",
       "        vertical-align: middle;\n",
       "    }\n",
       "\n",
       "    .dataframe tbody tr th {\n",
       "        vertical-align: top;\n",
       "    }\n",
       "\n",
       "    .dataframe thead th {\n",
       "        text-align: right;\n",
       "    }\n",
       "</style>\n",
       "<table border=\"1\" class=\"dataframe\">\n",
       "  <thead>\n",
       "    <tr style=\"text-align: right;\">\n",
       "      <th></th>\n",
       "      <th>SPY</th>\n",
       "      <th>GMWAX</th>\n",
       "    </tr>\n",
       "    <tr>\n",
       "      <th>Date</th>\n",
       "      <th></th>\n",
       "      <th></th>\n",
       "    </tr>\n",
       "  </thead>\n",
       "  <tbody>\n",
       "    <tr>\n",
       "      <th>2023-06-30</th>\n",
       "      <td>0.060289</td>\n",
       "      <td>0.035234</td>\n",
       "    </tr>\n",
       "    <tr>\n",
       "      <th>2023-07-31</th>\n",
       "      <td>0.028108</td>\n",
       "      <td>0.019797</td>\n",
       "    </tr>\n",
       "    <tr>\n",
       "      <th>2023-08-31</th>\n",
       "      <td>-0.020885</td>\n",
       "      <td>-0.025650</td>\n",
       "    </tr>\n",
       "    <tr>\n",
       "      <th>2023-09-30</th>\n",
       "      <td>-0.052018</td>\n",
       "      <td>-0.020966</td>\n",
       "    </tr>\n",
       "    <tr>\n",
       "      <th>2023-10-31</th>\n",
       "      <td>-0.026367</td>\n",
       "      <td>-0.034300</td>\n",
       "    </tr>\n",
       "  </tbody>\n",
       "</table>\n",
       "</div>"
      ],
      "text/plain": [
       "                 SPY     GMWAX\n",
       "Date                          \n",
       "2023-06-30  0.060289  0.035234\n",
       "2023-07-31  0.028108  0.019797\n",
       "2023-08-31 -0.020885 -0.025650\n",
       "2023-09-30 -0.052018 -0.020966\n",
       "2023-10-31 -0.026367 -0.034300"
      ]
     },
     "execution_count": 8,
     "metadata": {},
     "output_type": "execute_result"
    }
   ],
   "source": [
    "gmo_excess_ret = gmo_total_ret.copy()\n",
    "for col in gmo_excess_ret.columns:\n",
    "    gmo_excess_ret[col] = gmo_excess_ret[col] - rf['US3M']\n",
    "\n",
    "gmo_excess_ret.tail()"
   ]
  },
  {
   "cell_type": "markdown",
   "id": "35ef9884",
   "metadata": {},
   "source": [
    "## 2) Analyzing GMO\n",
    "\n",
    "#### This section utilizes data in the file, `gmo_analysis_data.xlsx`.\n",
    "#### Examine GMO's performance. Use the risk-free rate to convert the total returns to excess returns"
   ]
  },
  {
   "cell_type": "markdown",
   "id": "df5119cd",
   "metadata": {},
   "source": [
    "### 2.1) Calculate the mean, volatility, and Sharpe ratio for GMWAX. Do this for three samples:\n",
    "\n",
    "### • from inception through 2011\n",
    "### • 2012-present\n",
    "### • inception - present"
   ]
  },
  {
   "cell_type": "code",
   "execution_count": 9,
   "id": "fe54d2ee",
   "metadata": {},
   "outputs": [
    {
     "data": {
      "text/html": [
       "<div>\n",
       "<style scoped>\n",
       "    .dataframe tbody tr th:only-of-type {\n",
       "        vertical-align: middle;\n",
       "    }\n",
       "\n",
       "    .dataframe tbody tr th {\n",
       "        vertical-align: top;\n",
       "    }\n",
       "\n",
       "    .dataframe thead th {\n",
       "        text-align: right;\n",
       "    }\n",
       "</style>\n",
       "<table border=\"1\" class=\"dataframe\">\n",
       "  <thead>\n",
       "    <tr style=\"text-align: right;\">\n",
       "      <th></th>\n",
       "      <th>Mean</th>\n",
       "      <th>Volatility</th>\n",
       "      <th>Sharpe Ratio</th>\n",
       "    </tr>\n",
       "  </thead>\n",
       "  <tbody>\n",
       "    <tr>\n",
       "      <th>1993-2011</th>\n",
       "      <td>0.015827</td>\n",
       "      <td>0.125011</td>\n",
       "      <td>0.126603</td>\n",
       "    </tr>\n",
       "    <tr>\n",
       "      <th>2012-2022</th>\n",
       "      <td>0.040248</td>\n",
       "      <td>0.093980</td>\n",
       "      <td>0.428265</td>\n",
       "    </tr>\n",
       "    <tr>\n",
       "      <th>1993-2022</th>\n",
       "      <td>0.026093</td>\n",
       "      <td>0.112897</td>\n",
       "      <td>0.231123</td>\n",
       "    </tr>\n",
       "  </tbody>\n",
       "</table>\n",
       "</div>"
      ],
      "text/plain": [
       "               Mean  Volatility  Sharpe Ratio\n",
       "1993-2011  0.015827    0.125011      0.126603\n",
       "2012-2022  0.040248    0.093980      0.428265\n",
       "1993-2022  0.026093    0.112897      0.231123"
      ]
     },
     "execution_count": 9,
     "metadata": {},
     "output_type": "execute_result"
    }
   ],
   "source": [
    "sub_samples = {\n",
    "              '1993-2011' : ['1993','2011'],\n",
    "              '2012-2022' : ['2012','2022'],\n",
    "              '1993-2022' : ['1993','2022'],\n",
    "              }\n",
    "\n",
    "gmo_sum = []\n",
    "for k,v in sub_samples.items():\n",
    "    sub_gmo = gmo_excess_ret.loc[sub_samples[k][0]:sub_samples[k][1],['GMWAX']].dropna()\n",
    "    gmo_summary = performance_summary(sub_gmo)\n",
    "    gmo_summary = gmo_summary\n",
    "    gmo_summary.index = [k]\n",
    "    gmo_sum.append(gmo_summary)\n",
    "\n",
    "gmo_summary = pd.concat(gmo_sum)\n",
    "gmo_summary.loc[:,['Mean','Volatility','Sharpe Ratio']]"
   ]
  },
  {
   "cell_type": "markdown",
   "id": "e32b369a",
   "metadata": {},
   "source": [
    "### Has the mean, vol, and Sharpe changed much since the case?\n",
    "\n",
    "The mean increased and volatility decreased since the case."
   ]
  },
  {
   "cell_type": "markdown",
   "id": "0db0b51e",
   "metadata": {},
   "source": [
    "### 2.2 GMO believes a risk premium is compensation for a security's tendency to lose money at \"bad times\". For all three samples, analyze extreme scenarios by looking at -\n",
    "### • Min return\n",
    "### • 5th percentile (VaR-5th)\n",
    "### • Maximum  Drawdown"
   ]
  },
  {
   "cell_type": "code",
   "execution_count": 10,
   "id": "b06b4658",
   "metadata": {},
   "outputs": [
    {
     "data": {
      "text/html": [
       "<div>\n",
       "<style scoped>\n",
       "    .dataframe tbody tr th:only-of-type {\n",
       "        vertical-align: middle;\n",
       "    }\n",
       "\n",
       "    .dataframe tbody tr th {\n",
       "        vertical-align: top;\n",
       "    }\n",
       "\n",
       "    .dataframe thead th {\n",
       "        text-align: right;\n",
       "    }\n",
       "</style>\n",
       "<table border=\"1\" class=\"dataframe\">\n",
       "  <thead>\n",
       "    <tr style=\"text-align: right;\">\n",
       "      <th></th>\n",
       "      <th>Min</th>\n",
       "      <th>VaR (0.05)</th>\n",
       "      <th>Max Drawdown</th>\n",
       "    </tr>\n",
       "    <tr>\n",
       "      <th>Sub-Sample</th>\n",
       "      <th></th>\n",
       "      <th></th>\n",
       "      <th></th>\n",
       "    </tr>\n",
       "  </thead>\n",
       "  <tbody>\n",
       "    <tr>\n",
       "      <th>1993-2011</th>\n",
       "      <td>-0.149179</td>\n",
       "      <td>-0.059806</td>\n",
       "      <td>-0.355219</td>\n",
       "    </tr>\n",
       "    <tr>\n",
       "      <th>2012-2022</th>\n",
       "      <td>-0.118650</td>\n",
       "      <td>-0.039362</td>\n",
       "      <td>-0.216773</td>\n",
       "    </tr>\n",
       "    <tr>\n",
       "      <th>1993-2022</th>\n",
       "      <td>-0.149179</td>\n",
       "      <td>-0.048109</td>\n",
       "      <td>-0.355219</td>\n",
       "    </tr>\n",
       "  </tbody>\n",
       "</table>\n",
       "</div>"
      ],
      "text/plain": [
       "                 Min  VaR (0.05)  Max Drawdown\n",
       "Sub-Sample                                    \n",
       "1993-2011  -0.149179   -0.059806     -0.355219\n",
       "2012-2022  -0.118650   -0.039362     -0.216773\n",
       "1993-2022  -0.149179   -0.048109     -0.355219"
      ]
     },
     "execution_count": 10,
     "metadata": {},
     "output_type": "execute_result"
    }
   ],
   "source": [
    "sub_samples = {\n",
    "              '1993-2011' : ['1993','2011'],\n",
    "              '2012-2022' : ['2012','2022'],\n",
    "              '1993-2022' : ['1993','2022'],\n",
    "              }\n",
    "\n",
    "gmo_mdd = []\n",
    "for k,v in sub_samples.items():\n",
    "    sub_gmo = gmo_total_ret.loc[sub_samples[k][0]:sub_samples[k][1],['GMWAX']].dropna()\n",
    "    gmo_drawdown = performance_summary(sub_gmo)\n",
    "    gmo_drawdown = gmo_drawdown.loc[:,['Max Drawdown']]\n",
    "    gmo_drawdown.index = [k]\n",
    "    gmo_mdd.append(gmo_drawdown)\n",
    "\n",
    "gmo_mdd = pd.concat(gmo_mdd)\n",
    "gmo_mdd_summary = gmo_summary.loc[:,['Min','VaR (0.05)']].merge(gmo_mdd,how='inner',on=gmo_mdd.index).rename(columns={'key_0':'Sub-Sample'})\n",
    "gmo_mdd_summary.index = gmo_mdd_summary['Sub-Sample']\n",
    "gmo_mdd_summary = gmo_mdd_summary.drop(['Sub-Sample'],axis = 1)\n",
    "gmo_mdd_summary"
   ]
  },
  {
   "cell_type": "markdown",
   "id": "5cb690a8",
   "metadata": {},
   "source": [
    "### 2.2.a) Does GMWAX have high or low tail-risk as seen by these stats\n",
    "\n",
    "GMWAX seems to have low tail-risk. "
   ]
  },
  {
   "cell_type": "markdown",
   "id": "465afc14",
   "metadata": {},
   "source": [
    "### 2.2.b) Does that vary much across the two subsamples?\n",
    "\n",
    "No, there does not seem to be much variation"
   ]
  },
  {
   "cell_type": "markdown",
   "id": "74c97760",
   "metadata": {},
   "source": [
    "### 2.3) For all three samples, regress excess returns of GMWAX on excess returns of SPY."
   ]
  },
  {
   "cell_type": "code",
   "execution_count": 11,
   "id": "cac7951c",
   "metadata": {},
   "outputs": [],
   "source": [
    "reg_sub_sample = []\n",
    "for k,v in sub_samples.items():    \n",
    "    fund_ret = gmo_excess_ret.loc[sub_samples[k][0]:sub_samples[k][1],['GMWAX']].dropna()\n",
    "    factor = gmo_excess_ret.loc[fund_ret.index[0]:fund_ret.index[-1],['SPY']]\n",
    "    reg = regression_based_performance(factor,fund_ret,0)\n",
    "    beta_mkt = reg[0][0]\n",
    "    treynor_ratio = reg[1]\n",
    "    information_ratio = reg[2]\n",
    "    alpha = reg[3]\n",
    "    r_squared = reg[4]\n",
    "    reg_sub_sample.append(pd.DataFrame([[beta_mkt,treynor_ratio,information_ratio,alpha,r_squared]],columns=['SPY Beta','Treynor Ratio','Information Ratio','Alpha','R-Squared'],index = ['GMWAX '+k]))\n",
    "\n",
    "reg_performance = pd.concat(reg_sub_sample)\n"
   ]
  },
  {
   "cell_type": "markdown",
   "id": "93bd0a3f",
   "metadata": {},
   "source": [
    "### 2.3.a) Report the estimated alpha, beta, and r-squared."
   ]
  },
  {
   "cell_type": "code",
   "execution_count": 12,
   "id": "41300a26",
   "metadata": {},
   "outputs": [
    {
     "data": {
      "text/html": [
       "<div>\n",
       "<style scoped>\n",
       "    .dataframe tbody tr th:only-of-type {\n",
       "        vertical-align: middle;\n",
       "    }\n",
       "\n",
       "    .dataframe tbody tr th {\n",
       "        vertical-align: top;\n",
       "    }\n",
       "\n",
       "    .dataframe thead th {\n",
       "        text-align: right;\n",
       "    }\n",
       "</style>\n",
       "<table border=\"1\" class=\"dataframe\">\n",
       "  <thead>\n",
       "    <tr style=\"text-align: right;\">\n",
       "      <th></th>\n",
       "      <th>SPY Beta</th>\n",
       "      <th>Alpha</th>\n",
       "      <th>R-Squared</th>\n",
       "    </tr>\n",
       "  </thead>\n",
       "  <tbody>\n",
       "    <tr>\n",
       "      <th>GMWAX 1993-2011</th>\n",
       "      <td>0.539615</td>\n",
       "      <td>-0.005748</td>\n",
       "      <td>0.507129</td>\n",
       "    </tr>\n",
       "    <tr>\n",
       "      <th>GMWAX 2012-2022</th>\n",
       "      <td>0.564932</td>\n",
       "      <td>-0.029664</td>\n",
       "      <td>0.751044</td>\n",
       "    </tr>\n",
       "    <tr>\n",
       "      <th>GMWAX 1993-2022</th>\n",
       "      <td>0.547133</td>\n",
       "      <td>-0.015048</td>\n",
       "      <td>0.577321</td>\n",
       "    </tr>\n",
       "  </tbody>\n",
       "</table>\n",
       "</div>"
      ],
      "text/plain": [
       "                 SPY Beta     Alpha  R-Squared\n",
       "GMWAX 1993-2011  0.539615 -0.005748   0.507129\n",
       "GMWAX 2012-2022  0.564932 -0.029664   0.751044\n",
       "GMWAX 1993-2022  0.547133 -0.015048   0.577321"
      ]
     },
     "execution_count": 12,
     "metadata": {},
     "output_type": "execute_result"
    }
   ],
   "source": [
    "reg_performance.loc[:,['SPY Beta','Alpha','R-Squared']]"
   ]
  },
  {
   "cell_type": "markdown",
   "id": "04b5407a",
   "metadata": {},
   "source": [
    "### 2.3.b) Is GMWAX a low-beta strategy? Has that changed since the case?\n",
    "\n",
    "GMWAX seems to have a relatively moderate beta with the market: ~50%-56%. So no, it's market beta is not very low to be considered a low-beta strategy."
   ]
  },
  {
   "cell_type": "code",
   "execution_count": 13,
   "id": "cb305a8a",
   "metadata": {},
   "outputs": [
    {
     "data": {
      "text/html": [
       "<div>\n",
       "<style scoped>\n",
       "    .dataframe tbody tr th:only-of-type {\n",
       "        vertical-align: middle;\n",
       "    }\n",
       "\n",
       "    .dataframe tbody tr th {\n",
       "        vertical-align: top;\n",
       "    }\n",
       "\n",
       "    .dataframe thead th {\n",
       "        text-align: right;\n",
       "    }\n",
       "</style>\n",
       "<table border=\"1\" class=\"dataframe\">\n",
       "  <thead>\n",
       "    <tr style=\"text-align: right;\">\n",
       "      <th></th>\n",
       "      <th>SPY Beta</th>\n",
       "      <th>Alpha</th>\n",
       "      <th>R-Squared</th>\n",
       "    </tr>\n",
       "  </thead>\n",
       "  <tbody>\n",
       "    <tr>\n",
       "      <th>GMWAX 2012-2022</th>\n",
       "      <td>0.564932</td>\n",
       "      <td>-0.029664</td>\n",
       "      <td>0.751044</td>\n",
       "    </tr>\n",
       "  </tbody>\n",
       "</table>\n",
       "</div>"
      ],
      "text/plain": [
       "                 SPY Beta     Alpha R-Squared\n",
       "GMWAX 2012-2022  0.564932 -0.029664  0.751044"
      ]
     },
     "execution_count": 13,
     "metadata": {},
     "output_type": "execute_result"
    }
   ],
   "source": [
    "reg_performance.loc['GMWAX 2012-2022',['SPY Beta','Alpha','R-Squared']].to_frame().T"
   ]
  },
  {
   "cell_type": "markdown",
   "id": "c9fca95b",
   "metadata": {},
   "source": [
    "### 2.3.c) Does GMWAX provide alpha? Has that changed across the subsamples?\n",
    "\n",
    "GMWAX has a negative alpha across both sub-samples. However, the alpha decreases (becomes more negative) since the case."
   ]
  },
  {
   "cell_type": "markdown",
   "id": "43017031",
   "metadata": {},
   "source": [
    "## 3 Forecast Regressions\n",
    "\n",
    "#### This section utilizes data in the file,`gmo_analysis_data.xlsx`."
   ]
  },
  {
   "cell_type": "markdown",
   "id": "76aa017c",
   "metadata": {},
   "source": [
    "### 3.1) Consider the lagged regression, where the regressor, ($X$), is a period behind the target, ($r^{SPY}$).\n",
    "\\begin{align}\n",
    "r^{SPY}_t = \\alpha^{SPY,X}+(\\beta^{SPY,X})'X_{t-1}+\\epsilon^{SPY,X}_t\n",
    "\\end{align}\n",
    "### Estimate (1) and report the $R^2$, as well as the OLS estimates for $\\alpha$ and $\\beta$. Do this for...\n",
    "- $X$ as a single regressor, the dividend-price ratio.\n",
    "- $X$ as a single regressor, the earnings-price ratio.\n",
    "- $X$ as three regressors, the dividend-price ratio, the earnings-price ratio, and the 10-year yield.\n",
    "\n",
    "### For each, report the r-squared."
   ]
  },
  {
   "cell_type": "code",
   "execution_count": 14,
   "id": "a288c1e7",
   "metadata": {},
   "outputs": [],
   "source": [
    "fund_ret = gmo_total_ret.loc[:,['SPY']]\n",
    "signals = [['DP'],['EP'],['DP','EP','US10Y']]\n",
    "df_lst= []\n",
    "for signal in signals:\n",
    "    factor = gmo_signals.loc[:,signal].shift(1)\n",
    "    reg = regression_based_performance(factor,fund_ret,0)\n",
    "    reg_params = []\n",
    "    columns=[]\n",
    "    indexes = []\n",
    "    if len(signal) > 1:\n",
    "            for ele in signal:\n",
    "                columns.append(ele+'-Beta')\n",
    "                indexes.append(ele)\n",
    "            index = ', '.join(map(str, indexes))\n",
    "    else:\n",
    "        columns.append(str(signal[0]) + '-Beta')\n",
    "        index = signal[0]\n",
    "    for i in range(len(signal)):\n",
    "        reg_params.append(reg[0][i])\n",
    "    reg_params.append(reg[3]) #alpha\n",
    "    reg_params.append(reg[4]) #r-squared\n",
    "    \n",
    "    lst_col= ['Alpha','R-Squared']\n",
    "    for col in lst_col:\n",
    "        columns.append(col)\n",
    "    df_lst.append(pd.DataFrame([reg_params],columns=columns,index = [index]))"
   ]
  },
  {
   "cell_type": "code",
   "execution_count": 15,
   "id": "814966d4",
   "metadata": {},
   "outputs": [
    {
     "data": {
      "text/html": [
       "<div>\n",
       "<style scoped>\n",
       "    .dataframe tbody tr th:only-of-type {\n",
       "        vertical-align: middle;\n",
       "    }\n",
       "\n",
       "    .dataframe tbody tr th {\n",
       "        vertical-align: top;\n",
       "    }\n",
       "\n",
       "    .dataframe thead th {\n",
       "        text-align: right;\n",
       "    }\n",
       "</style>\n",
       "<table border=\"1\" class=\"dataframe\">\n",
       "  <thead>\n",
       "    <tr style=\"text-align: right;\">\n",
       "      <th></th>\n",
       "      <th>DP-Beta</th>\n",
       "      <th>Alpha</th>\n",
       "      <th>R-Squared</th>\n",
       "    </tr>\n",
       "  </thead>\n",
       "  <tbody>\n",
       "    <tr>\n",
       "      <th>DP</th>\n",
       "      <td>0.009516</td>\n",
       "      <td>-0.113772</td>\n",
       "      <td>0.009359</td>\n",
       "    </tr>\n",
       "  </tbody>\n",
       "</table>\n",
       "</div>"
      ],
      "text/plain": [
       "     DP-Beta     Alpha  R-Squared\n",
       "DP  0.009516 -0.113772   0.009359"
      ]
     },
     "execution_count": 15,
     "metadata": {},
     "output_type": "execute_result"
    }
   ],
   "source": [
    "df_lst[0]"
   ]
  },
  {
   "cell_type": "code",
   "execution_count": 16,
   "id": "120c5a8f",
   "metadata": {},
   "outputs": [
    {
     "data": {
      "text/html": [
       "<div>\n",
       "<style scoped>\n",
       "    .dataframe tbody tr th:only-of-type {\n",
       "        vertical-align: middle;\n",
       "    }\n",
       "\n",
       "    .dataframe tbody tr th {\n",
       "        vertical-align: top;\n",
       "    }\n",
       "\n",
       "    .dataframe thead th {\n",
       "        text-align: right;\n",
       "    }\n",
       "</style>\n",
       "<table border=\"1\" class=\"dataframe\">\n",
       "  <thead>\n",
       "    <tr style=\"text-align: right;\">\n",
       "      <th></th>\n",
       "      <th>EP-Beta</th>\n",
       "      <th>Alpha</th>\n",
       "      <th>R-Squared</th>\n",
       "    </tr>\n",
       "  </thead>\n",
       "  <tbody>\n",
       "    <tr>\n",
       "      <th>EP</th>\n",
       "      <td>0.003252</td>\n",
       "      <td>-0.073932</td>\n",
       "      <td>0.008692</td>\n",
       "    </tr>\n",
       "  </tbody>\n",
       "</table>\n",
       "</div>"
      ],
      "text/plain": [
       "     EP-Beta     Alpha  R-Squared\n",
       "EP  0.003252 -0.073932   0.008692"
      ]
     },
     "execution_count": 16,
     "metadata": {},
     "output_type": "execute_result"
    }
   ],
   "source": [
    "df_lst[1]"
   ]
  },
  {
   "cell_type": "code",
   "execution_count": 17,
   "id": "5b35ef43",
   "metadata": {},
   "outputs": [
    {
     "data": {
      "text/html": [
       "<div>\n",
       "<style scoped>\n",
       "    .dataframe tbody tr th:only-of-type {\n",
       "        vertical-align: middle;\n",
       "    }\n",
       "\n",
       "    .dataframe tbody tr th {\n",
       "        vertical-align: top;\n",
       "    }\n",
       "\n",
       "    .dataframe thead th {\n",
       "        text-align: right;\n",
       "    }\n",
       "</style>\n",
       "<table border=\"1\" class=\"dataframe\">\n",
       "  <thead>\n",
       "    <tr style=\"text-align: right;\">\n",
       "      <th></th>\n",
       "      <th>DP-Beta</th>\n",
       "      <th>EP-Beta</th>\n",
       "      <th>US10Y-Beta</th>\n",
       "      <th>Alpha</th>\n",
       "      <th>R-Squared</th>\n",
       "    </tr>\n",
       "  </thead>\n",
       "  <tbody>\n",
       "    <tr>\n",
       "      <th>DP, EP, US10Y</th>\n",
       "      <td>0.008023</td>\n",
       "      <td>0.002694</td>\n",
       "      <td>-0.000982</td>\n",
       "      <td>-0.180768</td>\n",
       "      <td>0.016364</td>\n",
       "    </tr>\n",
       "  </tbody>\n",
       "</table>\n",
       "</div>"
      ],
      "text/plain": [
       "                DP-Beta   EP-Beta  US10Y-Beta     Alpha  R-Squared\n",
       "DP, EP, US10Y  0.008023  0.002694   -0.000982 -0.180768   0.016364"
      ]
     },
     "execution_count": 17,
     "metadata": {},
     "output_type": "execute_result"
    }
   ],
   "source": [
    "df_lst[2]"
   ]
  },
  {
   "cell_type": "markdown",
   "id": "6e99a12a",
   "metadata": {},
   "source": [
    "### 3.2) For each of the three regressions, let’s try to utilize the resulting forecast in a trading strategy.\n",
    "- Build the forecasted SPY returns: $\\hat{r}^{SPY}_{t+1}$. Note that this denotes the forecast made using $X_t$ to forecast the $(t+1)$ return.\n",
    "- Set the scale of the investment in SPY equal to 100 times the forecasted value:\n",
    "$\n",
    "w_t = 100 \\hat{r}^{SPY}_{t+1}\n",
    "$\n",
    "- We are not taking this scaling too seriously. We just want the  strategy  to  go  bigger  inperiods where the forecast is high and to withdraw in periods where the forecast is low, or even negative.\n",
    "- Calcualte the return on this strategy:\n",
    "$\n",
    "r^X_{t+1} = w_tr^{SPY}_{t+1}\n",
    "$\n",
    "\n",
    "#### You should now have the trading strategy returns, $r^x$ for each of the forecasts. For each strategy, estimate:\n",
    "- mean, volatility, Sharpe,\n",
    "- max-drawdown\n",
    "- market alpha\n",
    "- market beta\n",
    "- market Information"
   ]
  },
  {
   "cell_type": "code",
   "execution_count": 18,
   "id": "ecaf2184",
   "metadata": {},
   "outputs": [],
   "source": [
    "dp_forecast_rtn = (gmo_signals.loc[:,'DP'].shift(1).to_frame() * df_lst[0]['DP-Beta'])+df_lst[0]['Alpha']/12\n",
    "dp_forecast_rtn = dp_forecast_rtn.rename(columns={'DP':'Forecasted Return'}) * 100\n",
    "dp_strat_rtn = pd.DataFrame(dp_forecast_rtn['Forecasted Return']*gmo_total_ret.loc[:,['SPY']]['SPY'], columns=dp_forecast_rtn.columns, index=dp_forecast_rtn.index)"
   ]
  },
  {
   "cell_type": "code",
   "execution_count": 19,
   "id": "a1de229c",
   "metadata": {},
   "outputs": [],
   "source": [
    "ep_forecast_rtn = (gmo_signals.loc[:,'EP'].shift(1).to_frame() * df_lst[1]['EP-Beta'])+df_lst[1]['Alpha']/12\n",
    "ep_forecast_rtn = ep_forecast_rtn.rename(columns={'EP':'Forecasted Return'}) * 100\n",
    "ep_strat_rtn = pd.DataFrame(ep_forecast_rtn['Forecasted Return']*gmo_total_ret.loc[:,['SPY']]['SPY'], columns=ep_forecast_rtn.columns, index=ep_forecast_rtn.index)"
   ]
  },
  {
   "cell_type": "code",
   "execution_count": 20,
   "id": "cf0f6022",
   "metadata": {},
   "outputs": [],
   "source": [
    "forecasted_rets = (np.array(gmo_signals.shift(1).loc[:,['DP','EP','US10Y']]) @ np.array(df_lst[2].loc[:,['DP-Beta','EP-Beta','US10Y-Beta']].T))\n",
    "fac3_forecast_rtn = (pd.DataFrame(forecasted_rets,columns = ['Forecasted Return'],index= gmo_signals.index)) \n",
    "fac3_forecast_rtn['Forecasted Return'] = (fac3_forecast_rtn['Forecasted Return'] + float(df_lst[2]['Alpha']/12))*100\n",
    "fac3_strat_rtn = pd.DataFrame(fac3_forecast_rtn['Forecasted Return'] *gmo_total_ret.loc[:,['SPY']]['SPY'], columns=fac3_forecast_rtn.columns, index=fac3_forecast_rtn.index)"
   ]
  },
  {
   "cell_type": "code",
   "execution_count": 21,
   "id": "d7adc6a2",
   "metadata": {},
   "outputs": [
    {
     "data": {
      "text/html": [
       "<div>\n",
       "<style scoped>\n",
       "    .dataframe tbody tr th:only-of-type {\n",
       "        vertical-align: middle;\n",
       "    }\n",
       "\n",
       "    .dataframe tbody tr th {\n",
       "        vertical-align: top;\n",
       "    }\n",
       "\n",
       "    .dataframe thead th {\n",
       "        text-align: right;\n",
       "    }\n",
       "</style>\n",
       "<table border=\"1\" class=\"dataframe\">\n",
       "  <thead>\n",
       "    <tr style=\"text-align: right;\">\n",
       "      <th></th>\n",
       "      <th>Mean</th>\n",
       "      <th>Volatility</th>\n",
       "      <th>Sharpe Ratio</th>\n",
       "      <th>Max Drawdown</th>\n",
       "      <th>Market Beta</th>\n",
       "      <th>Market Alpha</th>\n",
       "      <th>Market Information Ratio</th>\n",
       "    </tr>\n",
       "  </thead>\n",
       "  <tbody>\n",
       "    <tr>\n",
       "      <th>DP</th>\n",
       "      <td>0.109539</td>\n",
       "      <td>0.148858</td>\n",
       "      <td>0.735859</td>\n",
       "      <td>-0.656967</td>\n",
       "      <td>0.861746</td>\n",
       "      <td>0.041112</td>\n",
       "      <td>0.549044</td>\n",
       "    </tr>\n",
       "    <tr>\n",
       "      <th>EP</th>\n",
       "      <td>0.108055</td>\n",
       "      <td>0.128905</td>\n",
       "      <td>0.838249</td>\n",
       "      <td>-0.385317</td>\n",
       "      <td>0.733554</td>\n",
       "      <td>0.049800</td>\n",
       "      <td>0.732559</td>\n",
       "    </tr>\n",
       "    <tr>\n",
       "      <th>DP-EP-US10Y</th>\n",
       "      <td>0.125094</td>\n",
       "      <td>0.145603</td>\n",
       "      <td>0.859145</td>\n",
       "      <td>-0.524606</td>\n",
       "      <td>0.778129</td>\n",
       "      <td>0.063300</td>\n",
       "      <td>0.721235</td>\n",
       "    </tr>\n",
       "  </tbody>\n",
       "</table>\n",
       "</div>"
      ],
      "text/plain": [
       "                 Mean  Volatility  Sharpe Ratio  Max Drawdown  Market Beta  \\\n",
       "DP           0.109539    0.148858      0.735859     -0.656967     0.861746   \n",
       "EP           0.108055    0.128905      0.838249     -0.385317     0.733554   \n",
       "DP-EP-US10Y  0.125094    0.145603      0.859145     -0.524606     0.778129   \n",
       "\n",
       "             Market Alpha  Market Information Ratio  \n",
       "DP               0.041112                  0.549044  \n",
       "EP               0.049800                  0.732559  \n",
       "DP-EP-US10Y      0.063300                  0.721235  "
      ]
     },
     "execution_count": 21,
     "metadata": {},
     "output_type": "execute_result"
    }
   ],
   "source": [
    "strats = {'DP': dp_strat_rtn.dropna(),\n",
    "          'EP': ep_strat_rtn.dropna(),\n",
    "          'DP-EP-US10Y': fac3_strat_rtn.dropna()\n",
    "         }\n",
    "factor = gmo_excess_ret.loc[:,['SPY']]\n",
    "strat_summary =[]\n",
    "for k,v in strats.items():\n",
    "    strat = strats[k]\n",
    "    perf_summary = performance_summary(strat)\n",
    "    perf_summary['Negative Risk Premium Months'] = len(strat[strat['Forecasted Return'] - rf['US3M'] <0])\n",
    "    perf_summary['Total Months'] = len(strat)\n",
    "    perf_summary.index = [k]\n",
    "    reg = regression_based_performance(factor[strat.index[0]:],strat,0)\n",
    "    perf_summary['Market Beta'] = reg[0][0]\n",
    "    perf_summary['Market Alpha'] = reg[3]\n",
    "    perf_summary['Market Information Ratio'] = reg[2]\n",
    "    strat_summary.append(perf_summary)\n",
    "    \n",
    "\n",
    "strat_summary_df = pd.concat(strat_summary)\n",
    "strat_summary_df.loc[:,['Mean','Volatility','Sharpe Ratio','Max Drawdown','Market Beta','Market Alpha','Market Information Ratio']]"
   ]
  },
  {
   "cell_type": "markdown",
   "id": "ca9b8ba1",
   "metadata": {},
   "source": [
    "### 3.3) GMO believes a risk premium is compensation for a security's tendency to lose money at \"bad times\". Let's consider risk characteristics."
   ]
  },
  {
   "cell_type": "markdown",
   "id": "616e85e0",
   "metadata": {},
   "source": [
    "### 3.3.a) For both strategies, the market, and GMO, calculate the monthly VaR for $\\pi=.05$. Just use the quantile of the historic data for this VaR calculation."
   ]
  },
  {
   "cell_type": "code",
   "execution_count": 22,
   "id": "3664076d",
   "metadata": {},
   "outputs": [
    {
     "data": {
      "text/html": [
       "<div>\n",
       "<style scoped>\n",
       "    .dataframe tbody tr th:only-of-type {\n",
       "        vertical-align: middle;\n",
       "    }\n",
       "\n",
       "    .dataframe tbody tr th {\n",
       "        vertical-align: top;\n",
       "    }\n",
       "\n",
       "    .dataframe thead th {\n",
       "        text-align: right;\n",
       "    }\n",
       "</style>\n",
       "<table border=\"1\" class=\"dataframe\">\n",
       "  <thead>\n",
       "    <tr style=\"text-align: right;\">\n",
       "      <th></th>\n",
       "      <th>VaR (0.05)</th>\n",
       "    </tr>\n",
       "  </thead>\n",
       "  <tbody>\n",
       "    <tr>\n",
       "      <th>DP</th>\n",
       "      <td>-0.052335</td>\n",
       "    </tr>\n",
       "    <tr>\n",
       "      <th>EP</th>\n",
       "      <td>-0.053892</td>\n",
       "    </tr>\n",
       "    <tr>\n",
       "      <th>DP-EP-US10Y</th>\n",
       "      <td>-0.064082</td>\n",
       "    </tr>\n",
       "    <tr>\n",
       "      <th>SPY</th>\n",
       "      <td>-0.073525</td>\n",
       "    </tr>\n",
       "    <tr>\n",
       "      <th>GMWAX</th>\n",
       "      <td>-0.047061</td>\n",
       "    </tr>\n",
       "  </tbody>\n",
       "</table>\n",
       "</div>"
      ],
      "text/plain": [
       "             VaR (0.05)\n",
       "DP            -0.052335\n",
       "EP            -0.053892\n",
       "DP-EP-US10Y   -0.064082\n",
       "SPY           -0.073525\n",
       "GMWAX         -0.047061"
      ]
     },
     "execution_count": 22,
     "metadata": {},
     "output_type": "execute_result"
    }
   ],
   "source": [
    "market_summary = performance_summary(gmo_excess_ret.loc[:,['SPY']])\n",
    "gmo_summary = performance_summary(gmo_excess_ret.loc[:,['GMWAX']].dropna())\n",
    "strat_var= pd.concat([strat_summary_df.loc[:,['VaR (0.05)']],market_summary.loc[:,['VaR (0.05)']],gmo_summary.loc[:,['VaR (0.05)']]])\n",
    "strat_var"
   ]
  },
  {
   "cell_type": "markdown",
   "id": "673b99d2",
   "metadata": {},
   "source": [
    "### 3.3.b) The GMO case mentions that stocks under-performed short-term bonds from 2000-2011. Does the dynamic portfolio above under-perform the risk-free rate over this time?"
   ]
  },
  {
   "cell_type": "code",
   "execution_count": 23,
   "id": "4f7239a9",
   "metadata": {},
   "outputs": [
    {
     "data": {
      "text/html": [
       "<div>\n",
       "<style scoped>\n",
       "    .dataframe tbody tr th:only-of-type {\n",
       "        vertical-align: middle;\n",
       "    }\n",
       "\n",
       "    .dataframe tbody tr th {\n",
       "        vertical-align: top;\n",
       "    }\n",
       "\n",
       "    .dataframe thead th {\n",
       "        text-align: right;\n",
       "    }\n",
       "</style>\n",
       "<table border=\"1\" class=\"dataframe\">\n",
       "  <thead>\n",
       "    <tr style=\"text-align: right;\">\n",
       "      <th></th>\n",
       "      <th>Mean</th>\n",
       "      <th>Volatility</th>\n",
       "      <th>Sharpe Ratio</th>\n",
       "      <th>Max Drawdown</th>\n",
       "    </tr>\n",
       "  </thead>\n",
       "  <tbody>\n",
       "    <tr>\n",
       "      <th>DP</th>\n",
       "      <td>0.039709</td>\n",
       "      <td>0.186016</td>\n",
       "      <td>0.213468</td>\n",
       "      <td>-0.656967</td>\n",
       "    </tr>\n",
       "    <tr>\n",
       "      <th>EP</th>\n",
       "      <td>0.037709</td>\n",
       "      <td>0.134767</td>\n",
       "      <td>0.279805</td>\n",
       "      <td>-0.385317</td>\n",
       "    </tr>\n",
       "    <tr>\n",
       "      <th>DP-EP-US10Y</th>\n",
       "      <td>0.061471</td>\n",
       "      <td>0.158851</td>\n",
       "      <td>0.386972</td>\n",
       "      <td>-0.524606</td>\n",
       "    </tr>\n",
       "    <tr>\n",
       "      <th>Risk Free Rate</th>\n",
       "      <td>0.023062</td>\n",
       "      <td>0.005785</td>\n",
       "      <td>3.986632</td>\n",
       "      <td>0.000000</td>\n",
       "    </tr>\n",
       "  </tbody>\n",
       "</table>\n",
       "</div>"
      ],
      "text/plain": [
       "                    Mean  Volatility  Sharpe Ratio  Max Drawdown\n",
       "DP              0.039709    0.186016      0.213468     -0.656967\n",
       "EP              0.037709    0.134767      0.279805     -0.385317\n",
       "DP-EP-US10Y     0.061471    0.158851      0.386972     -0.524606\n",
       "Risk Free Rate  0.023062    0.005785      3.986632      0.000000"
      ]
     },
     "execution_count": 23,
     "metadata": {},
     "output_type": "execute_result"
    }
   ],
   "source": [
    "strats = {'DP': dp_strat_rtn.dropna(),\n",
    "          'EP': ep_strat_rtn.dropna(),\n",
    "          'DP-EP-US10Y': fac3_strat_rtn.dropna(),\n",
    "          'Risk Free Rate': rf['US3M'].to_frame('Forecasted Return')\n",
    "         }\n",
    "strat_summary_0011 =[]\n",
    "for k,v in strats.items():\n",
    "    strat = (strats[k]['2000':'2011']['Forecasted Return']).to_frame('Forecasted Returns')\n",
    "    perf_summary = performance_summary(strat)\n",
    "    perf_summary.index = [k]\n",
    "    strat_summary_0011.append(perf_summary)\n",
    "    \n",
    "\n",
    "strat_summary_df_0011 = pd.concat(strat_summary_0011)\n",
    "strat_summary_df_0011.loc[:,['Mean','Volatility','Sharpe Ratio','Max Drawdown']]"
   ]
  },
  {
   "cell_type": "markdown",
   "id": "74947c6f",
   "metadata": {},
   "source": [
    "All of the portfolios outperform the risk-free rate."
   ]
  },
  {
   "cell_type": "markdown",
   "id": "8546c275",
   "metadata": {},
   "source": [
    "### 3.3.c) Based on the regression estimates, in how many periods do we estimate a negative risk premium?"
   ]
  },
  {
   "cell_type": "code",
   "execution_count": 24,
   "id": "56d26ef8",
   "metadata": {},
   "outputs": [
    {
     "data": {
      "text/html": [
       "<div>\n",
       "<style scoped>\n",
       "    .dataframe tbody tr th:only-of-type {\n",
       "        vertical-align: middle;\n",
       "    }\n",
       "\n",
       "    .dataframe tbody tr th {\n",
       "        vertical-align: top;\n",
       "    }\n",
       "\n",
       "    .dataframe thead th {\n",
       "        text-align: right;\n",
       "    }\n",
       "</style>\n",
       "<table border=\"1\" class=\"dataframe\">\n",
       "  <thead>\n",
       "    <tr style=\"text-align: right;\">\n",
       "      <th></th>\n",
       "      <th>Negative Risk Premium Months</th>\n",
       "      <th>Total Months</th>\n",
       "      <th>Negative Risk Premium Months (%)</th>\n",
       "    </tr>\n",
       "  </thead>\n",
       "  <tbody>\n",
       "    <tr>\n",
       "      <th>DP</th>\n",
       "      <td>139</td>\n",
       "      <td>368</td>\n",
       "      <td>37.771739</td>\n",
       "    </tr>\n",
       "    <tr>\n",
       "      <th>EP</th>\n",
       "      <td>139</td>\n",
       "      <td>368</td>\n",
       "      <td>37.771739</td>\n",
       "    </tr>\n",
       "    <tr>\n",
       "      <th>DP-EP-US10Y</th>\n",
       "      <td>138</td>\n",
       "      <td>368</td>\n",
       "      <td>37.500000</td>\n",
       "    </tr>\n",
       "  </tbody>\n",
       "</table>\n",
       "</div>"
      ],
      "text/plain": [
       "             Negative Risk Premium Months  Total Months  \\\n",
       "DP                                    139           368   \n",
       "EP                                    139           368   \n",
       "DP-EP-US10Y                           138           368   \n",
       "\n",
       "             Negative Risk Premium Months (%)  \n",
       "DP                                  37.771739  \n",
       "EP                                  37.771739  \n",
       "DP-EP-US10Y                         37.500000  "
      ]
     },
     "execution_count": 24,
     "metadata": {},
     "output_type": "execute_result"
    }
   ],
   "source": [
    "neg_risk_premium = strat_summary_df.loc[:,['Negative Risk Premium Months','Total Months']]\n",
    "neg_risk_premium['Negative Risk Premium Months (%)'] = neg_risk_premium['Negative Risk Premium Months'] *100/ neg_risk_premium['Total Months']\n",
    "neg_risk_premium"
   ]
  },
  {
   "cell_type": "markdown",
   "id": "6d2bf43b",
   "metadata": {},
   "source": [
    "### 3.3.d) Do you believe the dynamic strategy takes on extra risk?\n",
    "\n",
    "Depends. By comparing mean and volatility of the dynamic strategies compared to SPY, it does not seem like they do not take on extra risk (higher means / lower vols). However, with a negative risk premium around 38% of the time for the dynamic strategies does seem to be somewhat risky."
   ]
  },
  {
   "cell_type": "code",
   "execution_count": 25,
   "id": "601cc645",
   "metadata": {},
   "outputs": [
    {
     "data": {
      "text/html": [
       "<div>\n",
       "<style scoped>\n",
       "    .dataframe tbody tr th:only-of-type {\n",
       "        vertical-align: middle;\n",
       "    }\n",
       "\n",
       "    .dataframe tbody tr th {\n",
       "        vertical-align: top;\n",
       "    }\n",
       "\n",
       "    .dataframe thead th {\n",
       "        text-align: right;\n",
       "    }\n",
       "</style>\n",
       "<table border=\"1\" class=\"dataframe\">\n",
       "  <thead>\n",
       "    <tr style=\"text-align: right;\">\n",
       "      <th></th>\n",
       "      <th>Mean</th>\n",
       "      <th>Volatility</th>\n",
       "      <th>Sharpe Ratio</th>\n",
       "      <th>VaR (0.05)</th>\n",
       "      <th>Max Drawdown</th>\n",
       "      <th>Market Beta</th>\n",
       "      <th>Market Alpha</th>\n",
       "      <th>Market Information Ratio</th>\n",
       "    </tr>\n",
       "  </thead>\n",
       "  <tbody>\n",
       "    <tr>\n",
       "      <th>DP</th>\n",
       "      <td>0.109539</td>\n",
       "      <td>0.148858</td>\n",
       "      <td>0.735859</td>\n",
       "      <td>-0.052335</td>\n",
       "      <td>-0.656967</td>\n",
       "      <td>0.861746</td>\n",
       "      <td>0.041112</td>\n",
       "      <td>0.549044</td>\n",
       "    </tr>\n",
       "    <tr>\n",
       "      <th>EP</th>\n",
       "      <td>0.108055</td>\n",
       "      <td>0.128905</td>\n",
       "      <td>0.838249</td>\n",
       "      <td>-0.053892</td>\n",
       "      <td>-0.385317</td>\n",
       "      <td>0.733554</td>\n",
       "      <td>0.049800</td>\n",
       "      <td>0.732559</td>\n",
       "    </tr>\n",
       "    <tr>\n",
       "      <th>DP-EP-US10Y</th>\n",
       "      <td>0.125094</td>\n",
       "      <td>0.145603</td>\n",
       "      <td>0.859145</td>\n",
       "      <td>-0.064082</td>\n",
       "      <td>-0.524606</td>\n",
       "      <td>0.778129</td>\n",
       "      <td>0.063300</td>\n",
       "      <td>0.721235</td>\n",
       "    </tr>\n",
       "  </tbody>\n",
       "</table>\n",
       "</div>"
      ],
      "text/plain": [
       "                 Mean  Volatility  Sharpe Ratio  VaR (0.05)  Max Drawdown  \\\n",
       "DP           0.109539    0.148858      0.735859   -0.052335     -0.656967   \n",
       "EP           0.108055    0.128905      0.838249   -0.053892     -0.385317   \n",
       "DP-EP-US10Y  0.125094    0.145603      0.859145   -0.064082     -0.524606   \n",
       "\n",
       "             Market Beta  Market Alpha  Market Information Ratio  \n",
       "DP              0.861746      0.041112                  0.549044  \n",
       "EP              0.733554      0.049800                  0.732559  \n",
       "DP-EP-US10Y     0.778129      0.063300                  0.721235  "
      ]
     },
     "execution_count": 25,
     "metadata": {},
     "output_type": "execute_result"
    }
   ],
   "source": [
    "strat_summary_df.loc[:,['Mean','Volatility','Sharpe Ratio','VaR (0.05)','Max Drawdown','Market Beta','Market Alpha','Market Information Ratio']]"
   ]
  },
  {
   "cell_type": "code",
   "execution_count": 26,
   "id": "cc6cfbe7",
   "metadata": {},
   "outputs": [
    {
     "data": {
      "text/html": [
       "<div>\n",
       "<style scoped>\n",
       "    .dataframe tbody tr th:only-of-type {\n",
       "        vertical-align: middle;\n",
       "    }\n",
       "\n",
       "    .dataframe tbody tr th {\n",
       "        vertical-align: top;\n",
       "    }\n",
       "\n",
       "    .dataframe thead th {\n",
       "        text-align: right;\n",
       "    }\n",
       "</style>\n",
       "<table border=\"1\" class=\"dataframe\">\n",
       "  <thead>\n",
       "    <tr style=\"text-align: right;\">\n",
       "      <th></th>\n",
       "      <th>Mean</th>\n",
       "      <th>Volatility</th>\n",
       "      <th>Sharpe Ratio</th>\n",
       "      <th>VaR (0.05)</th>\n",
       "      <th>Max Drawdown</th>\n",
       "    </tr>\n",
       "  </thead>\n",
       "  <tbody>\n",
       "    <tr>\n",
       "      <th>SPY</th>\n",
       "      <td>0.07946</td>\n",
       "      <td>0.149097</td>\n",
       "      <td>0.532939</td>\n",
       "      <td>-0.073525</td>\n",
       "      <td>-0.560012</td>\n",
       "    </tr>\n",
       "  </tbody>\n",
       "</table>\n",
       "</div>"
      ],
      "text/plain": [
       "        Mean  Volatility  Sharpe Ratio  VaR (0.05)  Max Drawdown\n",
       "SPY  0.07946    0.149097      0.532939   -0.073525     -0.560012"
      ]
     },
     "execution_count": 26,
     "metadata": {},
     "output_type": "execute_result"
    }
   ],
   "source": [
    "market_summary.loc[:,['Mean','Volatility','Sharpe Ratio','VaR (0.05)','Max Drawdown']]"
   ]
  },
  {
   "cell_type": "markdown",
   "id": "e60bbc2c",
   "metadata": {},
   "source": [
    "## 4. Out-of-Sample Forecasting"
   ]
  },
  {
   "cell_type": "markdown",
   "id": "d79f8047",
   "metadata": {},
   "source": [
    "This section utilizes data in the file, `gmo_analysis_data.xlsx`.\n",
    "\n",
    "Reconsider the problem above, of estimating (1) for $x$. The reported $R^2$ was the in-sample $R^2$ it examined how well the forecasts fit in the sample from which the parameters were estimated. <br><br>\n",
    "\n",
    "**In particular, focus on the case of using both dividend-price and earnings-price as signals.**\n",
    "\n",
    "Let's consider the out-of-sample r-squared. To do so, we need the following:\n",
    "- Start at $t=60$.\n",
    "- Estmiate (1) only using data through time $t$.\n",
    "- Use the estimated parameters of (1), along with $x_{t+1}$ to calculate the out-of-sample forecast for the following period, $t+1$.\n",
    "\\begin{align}\n",
    "\\hat{r}^{SPY}_{t+1} = \\hat{a}^{SPY,x}_t+(\\beta^{SPY,x})'x_t \n",
    "\\end{align}\n",
    "- Calculate the $t+1$ forecast error,\n",
    "\\begin{align}\n",
    "  e^x_{t+1} = r^{SPY}_{t+1} - \\hat{r}^{SPY}_{t+1}\n",
    "\\end{align}\n",
    "- Move to $t=61$, and loop through the rest of the sample.\n",
    "\n",
    "You now have the time-series of out-of-sample prediction errors, $e^x$.\n",
    "\n",
    "Calculate the time-series of out-of-sample prediction errors $e^0$, which are based on the null forecast:\n",
    "\\begin{align*}\n",
    "\\bar{r}^{SPY}_{t+1} &= \\frac{1}{t}\\sum^{t}_{i=1}r^{SPY}_i \\\\\n",
    "e^0_{t+1} &= r^{SPY}_{t+1} - \\bar{r}^{SPY}_{t+1}\n",
    "\\end{align*}\n"
   ]
  },
  {
   "cell_type": "code",
   "execution_count": 27,
   "id": "8c83647c",
   "metadata": {},
   "outputs": [],
   "source": [
    "def OOS_r2(df, factors, start):\n",
    "    y = df['SPY']\n",
    "    X = sm.add_constant(factors)\n",
    "\n",
    "    forecast_err, null_err = [], []\n",
    "\n",
    "    for i,j in enumerate(df.index):\n",
    "        if i >= start:\n",
    "            currX = X.iloc[:i]\n",
    "            currY = y.iloc[:i]\n",
    "            reg = sm.OLS(currY, currX, missing = 'drop').fit()\n",
    "            null_forecast = currY.mean()\n",
    "            reg_predict = reg.predict(X.iloc[[i]])\n",
    "            actual = y.iloc[[i]]\n",
    "            forecast_err.append(reg_predict - actual)\n",
    "            null_err.append(null_forecast - actual)\n",
    "            \n",
    "    RSS = (np.array(forecast_err)**2).sum()\n",
    "    TSS = (np.array(null_err)**2).sum()\n",
    "    \n",
    "    return ((1 - RSS/TSS),reg)"
   ]
  },
  {
   "cell_type": "code",
   "execution_count": 28,
   "id": "f47cd315",
   "metadata": {},
   "outputs": [],
   "source": [
    "factor = gmo_signals.loc[:,'EP'].shift(1).to_frame()\n",
    "fund_ret = gmo_total_ret.loc[factor.index[0]:,['SPY']]\n",
    "reg_ep = OOS_r2(fund_ret,factor,60)\n",
    "OOS_RSquared_ep = reg_ep[0]\n",
    "OOS_r2_ep = pd.DataFrame([[OOS_RSquared_ep]], columns = ['OOS R-Squared'], index = ['EP'])\n",
    "reg_ep_params = reg_ep[1]"
   ]
  },
  {
   "cell_type": "code",
   "execution_count": 29,
   "id": "431fd93f",
   "metadata": {},
   "outputs": [],
   "source": [
    "factor = gmo_signals.loc[:,'DP'].shift(1).to_frame()\n",
    "fund_ret = gmo_total_ret.loc[factor.index[0]:,['SPY']]\n",
    "reg_dp = OOS_r2(fund_ret,factor,60)\n",
    "OOS_RSquared_dp = reg_dp[0]\n",
    "OOS_r2_dp = pd.DataFrame([[OOS_RSquared_dp]], columns = ['OOS R-Squared'], index = ['DP'])\n",
    "reg_dp_params = reg_dp[1]"
   ]
  },
  {
   "cell_type": "code",
   "execution_count": 30,
   "id": "c6484afe",
   "metadata": {},
   "outputs": [],
   "source": [
    "factor = gmo_signals.loc[:,['DP','EP']].shift(1)\n",
    "fund_ret = gmo_total_ret.loc[factor.index[0]:,['SPY']]\n",
    "reg_epdp = OOS_r2(fund_ret,factor,60)\n",
    "OOS_r2_epdp  = reg_epdp[0]\n",
    "OOS_r2_epdp = pd.DataFrame([[OOS_r2_epdp]], columns = ['OOS R-Squared'], index = ['DP-EP'])\n",
    "reg_epdp_params = reg_epdp[1]"
   ]
  },
  {
   "cell_type": "code",
   "execution_count": 31,
   "id": "f5954514",
   "metadata": {},
   "outputs": [],
   "source": [
    "factor = gmo_signals.loc[:,['DP','EP','US10Y']].shift(1)\n",
    "fund_ret = gmo_total_ret.loc[factor.index[0]:,['SPY']]\n",
    "reg_all = OOS_r2(fund_ret,factor,60)\n",
    "OOS_RSquared_all  = reg_all[0]\n",
    "OOS_r2_all = pd.DataFrame([[OOS_RSquared_all]], columns = ['OOS R-Squared'], index = ['All'])\n",
    "reg_all_params = reg_all[1]"
   ]
  },
  {
   "cell_type": "markdown",
   "id": "09f5524f",
   "metadata": {},
   "source": [
    "### 4.1) Report the out-of-sample $R^2$:\n",
    "\\begin{align}\n",
    " R^2_{OOS} \\equiv 1-\\frac{\\sum^T_{i=61}(e^x_i)^2}{\\sum^T_{i=61}(e^0_i)^2} \n",
    "\\end{align}\n",
    "### note that unlike an in-sample r-squared, the out-of-sample r-squared can be anywhere between $(-\\infty,1]$."
   ]
  },
  {
   "cell_type": "code",
   "execution_count": 32,
   "id": "1605a432",
   "metadata": {},
   "outputs": [
    {
     "data": {
      "text/html": [
       "<div>\n",
       "<style scoped>\n",
       "    .dataframe tbody tr th:only-of-type {\n",
       "        vertical-align: middle;\n",
       "    }\n",
       "\n",
       "    .dataframe tbody tr th {\n",
       "        vertical-align: top;\n",
       "    }\n",
       "\n",
       "    .dataframe thead th {\n",
       "        text-align: right;\n",
       "    }\n",
       "</style>\n",
       "<table border=\"1\" class=\"dataframe\">\n",
       "  <thead>\n",
       "    <tr style=\"text-align: right;\">\n",
       "      <th></th>\n",
       "      <th>OOS R-Squared</th>\n",
       "    </tr>\n",
       "  </thead>\n",
       "  <tbody>\n",
       "    <tr>\n",
       "      <th>DP</th>\n",
       "      <td>-0.002074</td>\n",
       "    </tr>\n",
       "    <tr>\n",
       "      <th>EP</th>\n",
       "      <td>-0.006394</td>\n",
       "    </tr>\n",
       "    <tr>\n",
       "      <th>DP-EP</th>\n",
       "      <td>-0.017227</td>\n",
       "    </tr>\n",
       "    <tr>\n",
       "      <th>All</th>\n",
       "      <td>-0.030651</td>\n",
       "    </tr>\n",
       "  </tbody>\n",
       "</table>\n",
       "</div>"
      ],
      "text/plain": [
       "       OOS R-Squared\n",
       "DP         -0.002074\n",
       "EP         -0.006394\n",
       "DP-EP      -0.017227\n",
       "All        -0.030651"
      ]
     },
     "execution_count": 32,
     "metadata": {},
     "output_type": "execute_result"
    }
   ],
   "source": [
    "oos_r2_sum = pd.concat([OOS_r2_dp,OOS_r2_ep,OOS_r2_epdp,OOS_r2_all])\n",
    "oos_r2_sum"
   ]
  },
  {
   "cell_type": "markdown",
   "id": "03fb108f",
   "metadata": {},
   "source": [
    "### Did this forecasting strategy produce a positive OOS r-squared?\n",
    "\n",
    "This forecasting strategy produced a negative OOS r-squared.\n"
   ]
  },
  {
   "cell_type": "markdown",
   "id": "1ed092e5",
   "metadata": {},
   "source": [
    "### 4.2) Re-do problem 3.2 using this OOS forecast. <br><br> How much better/worse is the OOS Earnings-Price ratio strategy compared to the in-sample version of 3.2?\n",
    "\n",
    "The Out-of-Sample performs worse than in-sample."
   ]
  },
  {
   "cell_type": "code",
   "execution_count": 33,
   "id": "1a9d5905",
   "metadata": {},
   "outputs": [],
   "source": [
    "def OOS_strat(df, factors, start, weight):\n",
    "    returns = []\n",
    "    y = df['SPY']\n",
    "    X = sm.add_constant(factors)\n",
    "\n",
    "    for i,j in enumerate(df.index):\n",
    "        if i >= start:\n",
    "            currX = X.iloc[:i]\n",
    "            currY = y.iloc[:i]\n",
    "            reg = sm.OLS(currY, currX, missing = 'drop').fit()\n",
    "            pred = reg.predict(X.iloc[[i]])\n",
    "            w = pred * weight\n",
    "            returns.append((df.iloc[i]['SPY'] * w)[0])\n",
    "\n",
    "    df_strat = pd.DataFrame(data = returns, index = df.iloc[-(len(returns)):].index, columns = ['Strat Returns'])\n",
    "    return df_strat"
   ]
  },
  {
   "cell_type": "code",
   "execution_count": 34,
   "id": "9031823e",
   "metadata": {},
   "outputs": [],
   "source": [
    "factor = gmo_signals.loc[:,'EP'].shift(1).to_frame()\n",
    "fund_ret= gmo_total_ret.loc[factor.index[0]:,['SPY']]\n",
    "OOS_EP_predict = OOS_strat(fund_ret,factor, 60, 100).rename(columns={'Strat Returns':'EP_OOS_Returns'})"
   ]
  },
  {
   "cell_type": "code",
   "execution_count": 35,
   "id": "5bce1ff2",
   "metadata": {},
   "outputs": [],
   "source": [
    "factor = gmo_signals.loc[:,'DP'].shift(1).to_frame()\n",
    "fund_ret= gmo_total_ret.loc[factor.index[0]:,['SPY']]\n",
    "OOS_DP_predict = OOS_strat(fund_ret,factor, 60, 100).rename(columns={'Strat Returns':'DP_OOS_Returns'})"
   ]
  },
  {
   "cell_type": "code",
   "execution_count": 36,
   "id": "de77bdca",
   "metadata": {},
   "outputs": [],
   "source": [
    "factor = gmo_signals.loc[:,['DP','EP']].shift(1)\n",
    "fund_ret= gmo_total_ret.loc[factor.index[0]:,['SPY']]\n",
    "OOS_EPDP_predict = OOS_strat(fund_ret,factor, 60, 100).rename(columns={'Strat Returns':'DP-EP_OOS_Returns'})"
   ]
  },
  {
   "cell_type": "code",
   "execution_count": 37,
   "id": "2266e3a8",
   "metadata": {},
   "outputs": [],
   "source": [
    "factor = gmo_signals.loc[:,['DP','EP','US10Y']].shift(1)\n",
    "fund_ret= gmo_total_ret.loc[factor.index[0]:,['SPY']]\n",
    "OOS_all_predict = OOS_strat(fund_ret,factor, 60, 100).rename(columns={'Strat Returns':'All_OOS_Returns'})"
   ]
  },
  {
   "cell_type": "code",
   "execution_count": 38,
   "id": "4dc6012d",
   "metadata": {
    "scrolled": true
   },
   "outputs": [
    {
     "data": {
      "text/html": [
       "<div>\n",
       "<style scoped>\n",
       "    .dataframe tbody tr th:only-of-type {\n",
       "        vertical-align: middle;\n",
       "    }\n",
       "\n",
       "    .dataframe tbody tr th {\n",
       "        vertical-align: top;\n",
       "    }\n",
       "\n",
       "    .dataframe thead th {\n",
       "        text-align: right;\n",
       "    }\n",
       "</style>\n",
       "<table border=\"1\" class=\"dataframe\">\n",
       "  <thead>\n",
       "    <tr style=\"text-align: right;\">\n",
       "      <th></th>\n",
       "      <th>Mean</th>\n",
       "      <th>Volatility</th>\n",
       "      <th>Sharpe Ratio</th>\n",
       "      <th>VaR (0.05)</th>\n",
       "      <th>Max Drawdown</th>\n",
       "      <th>Market Beta</th>\n",
       "      <th>Market Alpha</th>\n",
       "      <th>Market Information Ratio</th>\n",
       "    </tr>\n",
       "  </thead>\n",
       "  <tbody>\n",
       "    <tr>\n",
       "      <th>DP</th>\n",
       "      <td>0.079626</td>\n",
       "      <td>0.173732</td>\n",
       "      <td>0.458326</td>\n",
       "      <td>-0.071179</td>\n",
       "      <td>-0.551925</td>\n",
       "      <td>0.994490</td>\n",
       "      <td>0.012756</td>\n",
       "      <td>0.163440</td>\n",
       "    </tr>\n",
       "    <tr>\n",
       "      <th>EP</th>\n",
       "      <td>0.082373</td>\n",
       "      <td>0.163741</td>\n",
       "      <td>0.503066</td>\n",
       "      <td>-0.068431</td>\n",
       "      <td>-0.583693</td>\n",
       "      <td>0.549660</td>\n",
       "      <td>0.045420</td>\n",
       "      <td>0.325618</td>\n",
       "    </tr>\n",
       "    <tr>\n",
       "      <th>DP-EP</th>\n",
       "      <td>0.096815</td>\n",
       "      <td>0.226111</td>\n",
       "      <td>0.428174</td>\n",
       "      <td>-0.071698</td>\n",
       "      <td>-0.760910</td>\n",
       "      <td>0.469532</td>\n",
       "      <td>0.065244</td>\n",
       "      <td>0.305011</td>\n",
       "    </tr>\n",
       "    <tr>\n",
       "      <th>All</th>\n",
       "      <td>0.112022</td>\n",
       "      <td>0.247893</td>\n",
       "      <td>0.451897</td>\n",
       "      <td>-0.071882</td>\n",
       "      <td>-0.804959</td>\n",
       "      <td>0.490154</td>\n",
       "      <td>0.079068</td>\n",
       "      <td>0.335312</td>\n",
       "    </tr>\n",
       "    <tr>\n",
       "      <th>SPY</th>\n",
       "      <td>0.067239</td>\n",
       "      <td>0.156070</td>\n",
       "      <td>0.430826</td>\n",
       "      <td>-0.080066</td>\n",
       "      <td>-0.560012</td>\n",
       "      <td>1.000000</td>\n",
       "      <td>0.000000</td>\n",
       "      <td>0.733621</td>\n",
       "    </tr>\n",
       "    <tr>\n",
       "      <th>US3M</th>\n",
       "      <td>0.023803</td>\n",
       "      <td>0.006165</td>\n",
       "      <td>3.860934</td>\n",
       "      <td>0.000020</td>\n",
       "      <td>0.000000</td>\n",
       "      <td>-0.001179</td>\n",
       "      <td>0.023892</td>\n",
       "      <td>3.877706</td>\n",
       "    </tr>\n",
       "  </tbody>\n",
       "</table>\n",
       "</div>"
      ],
      "text/plain": [
       "           Mean  Volatility  Sharpe Ratio  VaR (0.05)  Max Drawdown  \\\n",
       "DP     0.079626    0.173732      0.458326   -0.071179     -0.551925   \n",
       "EP     0.082373    0.163741      0.503066   -0.068431     -0.583693   \n",
       "DP-EP  0.096815    0.226111      0.428174   -0.071698     -0.760910   \n",
       "All    0.112022    0.247893      0.451897   -0.071882     -0.804959   \n",
       "SPY    0.067239    0.156070      0.430826   -0.080066     -0.560012   \n",
       "US3M   0.023803    0.006165      3.860934    0.000020      0.000000   \n",
       "\n",
       "       Market Beta  Market Alpha  Market Information Ratio  \n",
       "DP        0.994490      0.012756                  0.163440  \n",
       "EP        0.549660      0.045420                  0.325618  \n",
       "DP-EP     0.469532      0.065244                  0.305011  \n",
       "All       0.490154      0.079068                  0.335312  \n",
       "SPY       1.000000      0.000000                  0.733621  \n",
       "US3M     -0.001179      0.023892                  3.877706  "
      ]
     },
     "execution_count": 38,
     "metadata": {},
     "output_type": "execute_result"
    }
   ],
   "source": [
    "oos_prediction_sum = pd.concat([OOS_DP_predict.T,OOS_EP_predict.T,OOS_all_predict.T])\n",
    "oos_prediction_sum = oos_prediction_sum.T\n",
    "\n",
    "strats = {'DP': OOS_DP_predict.dropna(),\n",
    "          'EP': OOS_EP_predict.dropna(),\n",
    "          'DP-EP':OOS_EPDP_predict.dropna(),\n",
    "          'All': OOS_all_predict.dropna(),\n",
    "          'SPY':gmo_excess_ret.loc[OOS_all_predict.index[0]:,['SPY']].rename(columns={'SPY':'SPY_OOS_Returns'}),\n",
    "          'US3M':rf['US3M'].to_frame('US3M_OOS_Returns')\n",
    "         }\n",
    "factor = gmo_excess_ret.loc[:,['SPY']]\n",
    "strat_summary =[]\n",
    "for k,v in strats.items():\n",
    "    strat = strats[k]\n",
    "    perf_summary = performance_summary(strat)\n",
    "    perf_summary['Negative Risk Premium Months'] = len(strat[strat[k+'_OOS_Returns'] - rf['US3M'] <0])\n",
    "    perf_summary['Total Months'] = len(strat)\n",
    "    perf_summary.index = [k]\n",
    "    reg = regression_based_performance(factor[strat.index[0]:],strat,0)\n",
    "    perf_summary['Market Beta'] = reg[0][0]\n",
    "    perf_summary['Market Alpha'] = reg[3]\n",
    "    perf_summary['Market Information Ratio'] = reg[2]\n",
    "    strat_summary.append(perf_summary)\n",
    "    \n",
    "\n",
    "strat_summary_df = pd.concat(strat_summary)\n",
    "strat_summary_df.loc[:,['Mean','Volatility','Sharpe Ratio','VaR (0.05)','Max Drawdown','Market Beta','Market Alpha','Market Information Ratio']]"
   ]
  },
  {
   "cell_type": "markdown",
   "id": "2b0335c0",
   "metadata": {},
   "source": [
    "### 4.3) Re-do problem 3.3 using this OOS forecast. <br><br> Is the point-in-time version of the strategy riskier?\n",
    "\n",
    "Compared to the full sub-sample, the mean returns go down significantly during 2000-2011.The volatility slightly increases as well. Hence, the strategy does seem riskier."
   ]
  },
  {
   "cell_type": "code",
   "execution_count": 39,
   "id": "c391dc09",
   "metadata": {},
   "outputs": [
    {
     "data": {
      "text/html": [
       "<div>\n",
       "<style scoped>\n",
       "    .dataframe tbody tr th:only-of-type {\n",
       "        vertical-align: middle;\n",
       "    }\n",
       "\n",
       "    .dataframe tbody tr th {\n",
       "        vertical-align: top;\n",
       "    }\n",
       "\n",
       "    .dataframe thead th {\n",
       "        text-align: right;\n",
       "    }\n",
       "</style>\n",
       "<table border=\"1\" class=\"dataframe\">\n",
       "  <thead>\n",
       "    <tr style=\"text-align: right;\">\n",
       "      <th></th>\n",
       "      <th>Mean</th>\n",
       "      <th>Volatility</th>\n",
       "      <th>Sharpe Ratio</th>\n",
       "      <th>VaR (0.05)</th>\n",
       "      <th>Max Drawdown</th>\n",
       "      <th>Market Beta</th>\n",
       "      <th>Market Alpha</th>\n",
       "      <th>Market Information Ratio</th>\n",
       "    </tr>\n",
       "  </thead>\n",
       "  <tbody>\n",
       "    <tr>\n",
       "      <th>DP</th>\n",
       "      <td>-0.010895</td>\n",
       "      <td>0.163221</td>\n",
       "      <td>-0.066749</td>\n",
       "      <td>-0.094730</td>\n",
       "      <td>-0.551925</td>\n",
       "      <td>0.952248</td>\n",
       "      <td>-0.006228</td>\n",
       "      <td>-0.124928</td>\n",
       "    </tr>\n",
       "    <tr>\n",
       "      <th>EP</th>\n",
       "      <td>0.038768</td>\n",
       "      <td>0.195919</td>\n",
       "      <td>0.197877</td>\n",
       "      <td>-0.085329</td>\n",
       "      <td>-0.583693</td>\n",
       "      <td>0.296065</td>\n",
       "      <td>0.040224</td>\n",
       "      <td>0.211832</td>\n",
       "    </tr>\n",
       "    <tr>\n",
       "      <th>DP-EP</th>\n",
       "      <td>0.043290</td>\n",
       "      <td>0.290943</td>\n",
       "      <td>0.148793</td>\n",
       "      <td>-0.100111</td>\n",
       "      <td>-0.760910</td>\n",
       "      <td>0.076108</td>\n",
       "      <td>0.043668</td>\n",
       "      <td>0.150212</td>\n",
       "    </tr>\n",
       "    <tr>\n",
       "      <th>All</th>\n",
       "      <td>0.084077</td>\n",
       "      <td>0.328892</td>\n",
       "      <td>0.255636</td>\n",
       "      <td>-0.091413</td>\n",
       "      <td>-0.804959</td>\n",
       "      <td>0.114138</td>\n",
       "      <td>0.084636</td>\n",
       "      <td>0.257752</td>\n",
       "    </tr>\n",
       "    <tr>\n",
       "      <th>US3M</th>\n",
       "      <td>0.023062</td>\n",
       "      <td>0.005785</td>\n",
       "      <td>3.986632</td>\n",
       "      <td>0.000035</td>\n",
       "      <td>0.000000</td>\n",
       "      <td>-0.002853</td>\n",
       "      <td>0.023052</td>\n",
       "      <td>3.997186</td>\n",
       "    </tr>\n",
       "  </tbody>\n",
       "</table>\n",
       "</div>"
      ],
      "text/plain": [
       "           Mean  Volatility  Sharpe Ratio  VaR (0.05)  Max Drawdown  \\\n",
       "DP    -0.010895    0.163221     -0.066749   -0.094730     -0.551925   \n",
       "EP     0.038768    0.195919      0.197877   -0.085329     -0.583693   \n",
       "DP-EP  0.043290    0.290943      0.148793   -0.100111     -0.760910   \n",
       "All    0.084077    0.328892      0.255636   -0.091413     -0.804959   \n",
       "US3M   0.023062    0.005785      3.986632    0.000035      0.000000   \n",
       "\n",
       "       Market Beta  Market Alpha  Market Information Ratio  \n",
       "DP        0.952248     -0.006228                 -0.124928  \n",
       "EP        0.296065      0.040224                  0.211832  \n",
       "DP-EP     0.076108      0.043668                  0.150212  \n",
       "All       0.114138      0.084636                  0.257752  \n",
       "US3M     -0.002853      0.023052                  3.997186  "
      ]
     },
     "execution_count": 39,
     "metadata": {},
     "output_type": "execute_result"
    }
   ],
   "source": [
    "oos_prediction_sum = pd.concat([OOS_DP_predict.T,OOS_EP_predict.T,OOS_all_predict.T])\n",
    "oos_prediction_sum = oos_prediction_sum.T\n",
    "\n",
    "strats = {'DP': OOS_DP_predict.dropna(),\n",
    "          'EP': OOS_EP_predict.dropna(),\n",
    "          'DP-EP':OOS_EPDP_predict.dropna(),\n",
    "          'All': OOS_all_predict.dropna(),\n",
    "          'US3M':rf['US3M'].to_frame('US3M_OOS_Returns')\n",
    "         }\n",
    "factor = gmo_excess_ret.loc[:,['SPY']]['2000':'2011']\n",
    "strat_summary =[]\n",
    "for k,v in strats.items():\n",
    "    strat = strats[k]['2000':'2011']\n",
    "    perf_summary = performance_summary(strat)\n",
    "    perf_summary['Negative Risk Premium Months'] = len(strat[strat[k+'_OOS_Returns'] - rf['2000':'2011']['US3M'] <0])\n",
    "    perf_summary['Total Months'] = len(strat)\n",
    "    perf_summary.index = [k]\n",
    "    reg = regression_based_performance(factor[strat.index[0]:],strat,0)\n",
    "    perf_summary['Market Beta'] = reg[0][0]\n",
    "    perf_summary['Market Alpha'] = reg[3]\n",
    "    perf_summary['Market Information Ratio'] = reg[2]\n",
    "    strat_summary.append(perf_summary)\n",
    "    \n",
    "\n",
    "strat_summary_df_0011 = pd.concat(strat_summary)\n",
    "strat_summary_df_0011.loc[:,['Mean','Volatility','Sharpe Ratio','VaR (0.05)','Max Drawdown','Market Beta','Market Alpha','Market Information Ratio']]"
   ]
  },
  {
   "cell_type": "code",
   "execution_count": 40,
   "id": "3dfcf916",
   "metadata": {},
   "outputs": [
    {
     "data": {
      "text/html": [
       "<div>\n",
       "<style scoped>\n",
       "    .dataframe tbody tr th:only-of-type {\n",
       "        vertical-align: middle;\n",
       "    }\n",
       "\n",
       "    .dataframe tbody tr th {\n",
       "        vertical-align: top;\n",
       "    }\n",
       "\n",
       "    .dataframe thead th {\n",
       "        text-align: right;\n",
       "    }\n",
       "</style>\n",
       "<table border=\"1\" class=\"dataframe\">\n",
       "  <thead>\n",
       "    <tr style=\"text-align: right;\">\n",
       "      <th></th>\n",
       "      <th>Negative Risk Premium Months</th>\n",
       "      <th>Total Months</th>\n",
       "      <th>Negative Risk Premium Months (%)</th>\n",
       "    </tr>\n",
       "  </thead>\n",
       "  <tbody>\n",
       "    <tr>\n",
       "      <th>DP</th>\n",
       "      <td>122</td>\n",
       "      <td>309</td>\n",
       "      <td>39.482201</td>\n",
       "    </tr>\n",
       "    <tr>\n",
       "      <th>EP</th>\n",
       "      <td>120</td>\n",
       "      <td>309</td>\n",
       "      <td>38.834951</td>\n",
       "    </tr>\n",
       "    <tr>\n",
       "      <th>DP-EP</th>\n",
       "      <td>121</td>\n",
       "      <td>309</td>\n",
       "      <td>39.158576</td>\n",
       "    </tr>\n",
       "    <tr>\n",
       "      <th>All</th>\n",
       "      <td>117</td>\n",
       "      <td>309</td>\n",
       "      <td>37.864078</td>\n",
       "    </tr>\n",
       "    <tr>\n",
       "      <th>SPY</th>\n",
       "      <td>125</td>\n",
       "      <td>309</td>\n",
       "      <td>40.453074</td>\n",
       "    </tr>\n",
       "    <tr>\n",
       "      <th>US3M</th>\n",
       "      <td>0</td>\n",
       "      <td>369</td>\n",
       "      <td>0.000000</td>\n",
       "    </tr>\n",
       "  </tbody>\n",
       "</table>\n",
       "</div>"
      ],
      "text/plain": [
       "       Negative Risk Premium Months  Total Months  \\\n",
       "DP                              122           309   \n",
       "EP                              120           309   \n",
       "DP-EP                           121           309   \n",
       "All                             117           309   \n",
       "SPY                             125           309   \n",
       "US3M                              0           369   \n",
       "\n",
       "       Negative Risk Premium Months (%)  \n",
       "DP                            39.482201  \n",
       "EP                            38.834951  \n",
       "DP-EP                         39.158576  \n",
       "All                           37.864078  \n",
       "SPY                           40.453074  \n",
       "US3M                           0.000000  "
      ]
     },
     "execution_count": 40,
     "metadata": {},
     "output_type": "execute_result"
    }
   ],
   "source": [
    "neg_risk_premium = strat_summary_df.loc[:,['Negative Risk Premium Months','Total Months']]\n",
    "neg_risk_premium['Negative Risk Premium Months (%)'] = neg_risk_premium['Negative Risk Premium Months'] *100/ neg_risk_premium['Total Months']\n",
    "neg_risk_premium"
   ]
  },
  {
   "cell_type": "code",
   "execution_count": null,
   "id": "64cf0f06",
   "metadata": {},
   "outputs": [],
   "source": []
  }
 ],
 "metadata": {
  "kernelspec": {
   "display_name": "Python 3 (ipykernel)",
   "language": "python",
   "name": "python3"
  },
  "language_info": {
   "codemirror_mode": {
    "name": "ipython",
    "version": 3
   },
   "file_extension": ".py",
   "mimetype": "text/x-python",
   "name": "python",
   "nbconvert_exporter": "python",
   "pygments_lexer": "ipython3",
   "version": "3.11.5"
  }
 },
 "nbformat": 4,
 "nbformat_minor": 5
}
